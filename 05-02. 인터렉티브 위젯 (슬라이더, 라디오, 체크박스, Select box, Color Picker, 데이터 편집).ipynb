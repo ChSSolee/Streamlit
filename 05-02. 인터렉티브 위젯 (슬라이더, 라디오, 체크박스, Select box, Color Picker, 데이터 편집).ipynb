{
 "cells": [
  {
   "cell_type": "markdown",
   "id": "b115d861",
   "metadata": {},
   "source": [
    "### `st.slider`\n",
    "\n",
    "<br>\n",
    "\n",
    "#### 매개변수\n",
    "- label (str)\n",
    "- min_value : 슬라이더 입력 위젯에 최솟값\n",
    "- max_value : 슬라이더 입력 위젯에 최댓값\n",
    "- value : 슬라이더 입력 위젯에 초깃값\n",
    "    - 두 개의 값으로 이루어진 tuple/list 가 전달되면 해당하는 하한 값과 상한 값으로 범위 슬라이더가 렌더링 \n",
    "    - 예) (1, 10)으로 설정하면 슬라이더는 1과 10 사이에서 선택 가능한 범위\n",
    "- step (int, float, timedelta, None) : 슬라이더가 이동하는 간격을 설정합니다. value 의 타입에 따라 기본값이 다르게 설정\n",
    "  - int는 1\n",
    "  - float는 0.1\n",
    "  - date/datetime은 timedelta(days=1)\n",
    "  - time(또는 max_value - min_value < 1 day)은 timedelta(minutes=15)\n",
    "- format (str, None) : printf 스타일 포맷 문자열을 지정하여 숫자 표시 형식을 제어\n",
    "  - 지정된 표시 형식은 반환 값에 영향을 주지 않음\n",
    "  - int, float 타입은 %d %e %f %g %i 형식을 지원\n",
    "  - date, time, datetime 타입은 Moment.js 표기법을 사용\n",
    "- key (str, int) : 위젯에 상태를 식별하고 추적하기 위해 고유 키를 부여\n",
    "- help (str) \n",
    "- on_change (callable) \n",
    "- args (tuple) \n",
    "- kwargs (dict) \n",
    "- disabled (bool)\n",
    "- label_visibility "
   ]
  }
 ],
 "metadata": {
  "language_info": {
   "name": "python"
  }
 },
 "nbformat": 4,
 "nbformat_minor": 5
}
